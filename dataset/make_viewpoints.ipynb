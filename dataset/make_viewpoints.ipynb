{
 "cells": [
  {
   "cell_type": "code",
   "execution_count": 1,
   "id": "bb36976b",
   "metadata": {},
   "outputs": [
    {
     "name": "stdout",
     "output_type": "stream",
     "text": [
      "Jupyter environment detected. Enabling Open3D WebVisualizer.\n",
      "[Open3D INFO] WebRTC GUI backend enabled.\n",
      "[Open3D INFO] WebRTCWindowSystem: HTTP handshake server disabled.\n"
     ]
    }
   ],
   "source": [
    "import numpy as np\n",
    "import pickle\n",
    "from scipy.spatial.transform import Rotation as R\n",
    "import random\n",
    "import torch\n",
    "from tqdm.auto import tqdm\n",
    "import open3d as o3d\n",
    "import os.path\n",
    "from collections import deque\n",
    "\n",
    "def unit_vector(vector):\n",
    "    \"\"\" Returns the unit vector of the vector.  \"\"\"\n",
    "    return vector / np.linalg.norm(vector)\n",
    "\n",
    "def angle_between(v1, v2):\n",
    "    \"\"\" Returns the angle in radians between vectors 'v1' and 'v2'::\n",
    "\n",
    "            >>> angle_between((1, 0, 0), (0, 1, 0))\n",
    "            1.5707963267948966\n",
    "            >>> angle_between((1, 0, 0), (1, 0, 0))\n",
    "            0.0\n",
    "            >>> angle_between((1, 0, 0), (-1, 0, 0))\n",
    "            3.141592653589793\n",
    "    \"\"\"\n",
    "    v1_u = unit_vector(v1)\n",
    "    v2_u = unit_vector(v2)\n",
    "    return np.arccos(np.clip(np.dot(v1_u, v2_u), -1.0, 1.0))"
   ]
  },
  {
   "cell_type": "code",
   "execution_count": 2,
   "id": "4814c55e",
   "metadata": {},
   "outputs": [],
   "source": [
    "robot_type = 'UR5'\n",
    "tgt_pointcloud = np.loadtxt(f'../../Demo/models/{robot_type}_base_m_x5.txt')[:,0:3]\n",
    "\n",
    "pcd = o3d.geometry.PointCloud()\n",
    "pcd.points = o3d.utility.Vector3dVector(tgt_pointcloud)\n",
    "pcd.estimate_normals()\n",
    "# o3d.visualization.draw_geometries([pcd], point_show_normal=True)\n",
    "pcd.orient_normals_consistent_tangent_plane(100)\n",
    "#new_n = []\n",
    "#for n in pcd.normals:\n",
    "#    new_n.append(-1* n)\n",
    "#pcd.normals = o3d.utility.Vector3dVector(np.asarray(new_n))\n",
    "o3d.visualization.draw_geometries([pcd], point_show_normal=True)\n",
    "\n",
    "# with o3d.utility.VerbosityContextManager(\n",
    "#         o3d.utility.VerbosityLevel.Debug) as cm:\n",
    "#     mesh, densities = o3d.geometry.TriangleMesh.create_from_point_cloud_poisson(\n",
    "#         pcd, depth=9)\n",
    "# print(mesh)\n",
    "# o3d.visualization.draw_geometries([mesh],point_show_normal=True)\n",
    "\n",
    "# radii = [0.005, 0.01, 0.02, 0.04]\n",
    "# rec_mesh = o3d.geometry.TriangleMesh.create_from_point_cloud_ball_pivoting(\n",
    "#     pcd, o3d.utility.DoubleVector(radii))\n",
    "# o3d.visualization.draw_geometries([pcd, rec_mesh], point_show_normal=True)"
   ]
  },
  {
   "cell_type": "code",
   "execution_count": 3,
   "id": "4d1690bc",
   "metadata": {},
   "outputs": [
    {
     "name": "stdout",
     "output_type": "stream",
     "text": [
      "(33775, 3)\n"
     ]
    }
   ],
   "source": [
    "# print (np.asarray(rec_mesh.vertices).shape)\n",
    "# print (np.asarray(rec_mesh.triangles).shape)\n",
    "print (np.asarray(pcd.normals).shape)\n",
    "\n",
    "# iter_mesh = np.asarray(rec_mesh.triangles)"
   ]
  },
  {
   "cell_type": "code",
   "execution_count": 4,
   "id": "467f05d3",
   "metadata": {},
   "outputs": [
    {
     "name": "stdout",
     "output_type": "stream",
     "text": [
      "90\n"
     ]
    }
   ],
   "source": [
    "# point on sphere generation\n",
    "scale = 5.0\n",
    "D = 0.5 * scale # m\n",
    "points_on_sphere = []\n",
    "for alpha in range(10, 90, 10):\n",
    "    z = D * np.sin(np.deg2rad(alpha) )\n",
    "    D_ = D * np.cos(np.deg2rad(alpha) )\n",
    "    \n",
    "    for beta in range(0, 360, 20):\n",
    "        x = D_ * np.cos(np.deg2rad(beta))\n",
    "        y = D_ * np.sin(np.deg2rad(beta))\n",
    "        if np.sqrt(x**2 + y**2) > 0.3 * scale:\n",
    "            points_on_sphere.append([x,y,z])\n",
    "points_on_sphere.reverse()\n",
    "points_on_sphere = np.asarray(points_on_sphere)\n",
    "print (len(points_on_sphere))\n",
    "np.savetxt(f'{robot_type}_point_on_sphere.txt', points_on_sphere, fmt = '%1.6f')"
   ]
  },
  {
   "cell_type": "code",
   "execution_count": 5,
   "id": "31248912",
   "metadata": {},
   "outputs": [
    {
     "data": {
      "application/vnd.jupyter.widget-view+json": {
       "model_id": "9f56b78119644fc3a02a4ebd39592022",
       "version_major": 2,
       "version_minor": 0
      },
      "text/plain": [
       "  0%|          | 0/90 [00:00<?, ?it/s]"
      ]
     },
     "metadata": {},
     "output_type": "display_data"
    }
   ],
   "source": [
    "for v_index, view_point in tqdm(enumerate(points_on_sphere), total = len(points_on_sphere)):\n",
    "    visible_points = []\n",
    "    for index, normal in enumerate(pcd.normals):\n",
    "        rad = angle_between(normal, pcd.points[index] - view_point)\n",
    "        angle = np.rad2deg(rad)\n",
    "        if angle > 110:\n",
    "            visible_points.append(pcd.points[index])\n",
    "    visible_points.append(view_point)\n",
    "    np.savetxt(f'./{robot_type}_visible_points/visible_points_{v_index:06d}.txt', np.asarray(visible_points))"
   ]
  },
  {
   "cell_type": "code",
   "execution_count": null,
   "id": "998a0d71",
   "metadata": {},
   "outputs": [],
   "source": []
  }
 ],
 "metadata": {
  "kernelspec": {
   "display_name": "dlpytorch",
   "language": "python",
   "name": "dlpytorch"
  },
  "language_info": {
   "codemirror_mode": {
    "name": "ipython",
    "version": 3
   },
   "file_extension": ".py",
   "mimetype": "text/x-python",
   "name": "python",
   "nbconvert_exporter": "python",
   "pygments_lexer": "ipython3",
   "version": "3.10.8"
  }
 },
 "nbformat": 4,
 "nbformat_minor": 5
}
